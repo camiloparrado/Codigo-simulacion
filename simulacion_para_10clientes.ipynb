{
  "nbformat": 4,
  "nbformat_minor": 0,
  "metadata": {
    "colab": {
      "provenance": [],
      "authorship_tag": "ABX9TyMsgMzo+jwz32bh2FcF9i0p",
      "include_colab_link": true
    },
    "kernelspec": {
      "name": "python3",
      "display_name": "Python 3"
    },
    "language_info": {
      "name": "python"
    }
  },
  "cells": [
    {
      "cell_type": "markdown",
      "metadata": {
        "id": "view-in-github",
        "colab_type": "text"
      },
      "source": [
        "<a href=\"https://colab.research.google.com/github/camiloparrado/Codigo-simulacion/blob/main/simulacion_para_10clientes.ipynb\" target=\"_parent\"><img src=\"https://colab.research.google.com/assets/colab-badge.svg\" alt=\"Open In Colab\"/></a>"
      ]
    },
    {
      "cell_type": "code",
      "source": [
        "import numpy as np\n",
        "from scipy import stats\n",
        "from IPython.display import display, Markdown"
      ],
      "metadata": {
        "id": "0hP7EuZjvU-l"
      },
      "execution_count": null,
      "outputs": []
    },
    {
      "cell_type": "code",
      "execution_count": null,
      "metadata": {
        "colab": {
          "base_uri": "https://localhost:8080/"
        },
        "id": "8fGpHxDyvF9g",
        "outputId": "5d1163d0-41de-41b0-dc9c-0049821e793e"
      },
      "outputs": [
        {
          "output_type": "stream",
          "name": "stdout",
          "text": [
            "Rep.\tVAlor\n",
            "1\t1.75\n",
            "2\t2.42857\n",
            "3\t4.58333\n",
            "4\t3.33333\n",
            "5\t2.5\n",
            "6\t3.71429\n",
            "7\t3.71429\n",
            "8\t1.875\n",
            "9\t2.5\n",
            "10\t2.5\n"
          ]
        }
      ],
      "source": [
        "#M = [3.90, 4.05, 6.1, 4.85, 4.1, 4.6, 4.75, 3.8, 4.35, 4] tiempo promedio en el sistema\n",
        "#M = [0.44, 0.35, 0.26, 0.32, 0.45, 0.38, 0.37, 0.42, 0.42, 0.38] tiempo inactivo del servicio\n",
        "#M = [0.35, 0.85, 2.75, 1, 0.75, 1.3, 1.3, 0.75, 0.75, 0.5] tiempo promedio de espera por cliente\n",
        "#M = [0.2, 0.35, 0.6, 0.3, 0.3, 0.35, 0.35, 0.4, 0.3, 0.2] fraccion de clientes que tuvo que esperar\n",
        "M = [1.75, 2.42857143, 4.58333, 3.33333333, 2.5, 3.71428571, 3.71428571, 1.875, 2.5, 2.5] #tiempo promedio de espera de quienes esperaron\n",
        "\n",
        "\n",
        "reps = len(M)\n",
        "\n",
        "print(\"Rep.\\tVAlor\")\n",
        "for i in range(0, len(M)):\n",
        "    print(\"%d\\t%g\" % (i+1,M[i]), sep=' ', end='\\n')"
      ]
    },
    {
      "cell_type": "code",
      "source": [
        "alpha = 0.01\n",
        "confidence = (1-alpha)*100\n",
        "\n",
        "mean = np.mean(M)\n",
        "var = np.var(M,ddof=1)\n",
        "desv = np.sqrt(var)\n",
        "\n",
        "tval = stats.t.ppf(1-(alpha/2), reps-1)\n",
        "hval = tval*(desv/np.sqrt(reps))\n",
        "\n",
        "display(Markdown(\n",
        "   rf\"\"\"\n",
        "${confidence}\\%$ confidence\n",
        "\n",
        "$\\bar{{X}} = {mean}$\n",
        "\n",
        "$S = {desv}$\n",
        "\n",
        "$t_{{n-1,1-\\frac{{\\alpha}}{2}}} = t_{{{reps-1},{1-alpha/2}}} ={tval}$\n",
        "\n",
        "$h = {hval}$\n",
        "\n",
        "Intervalo de confianza : $C.I. = (\\bar{{X}}-h , \\bar{{X}} + h) = ({mean-hval},{mean+hval})$\n",
        "\n",
        "\"\"\"))\n"
      ],
      "metadata": {
        "colab": {
          "base_uri": "https://localhost:8080/",
          "height": 185
        },
        "id": "03ikMnhZvPYn",
        "outputId": "9bf4d271-f684-4157-c604-9949dbaef5cd"
      },
      "execution_count": null,
      "outputs": [
        {
          "output_type": "display_data",
          "data": {
            "text/plain": [
              "<IPython.core.display.Markdown object>"
            ],
            "text/markdown": "\n$99.0\\%$ confidence\n\n$\\bar{X} = 2.8898806180000003$\n\n$S = 0.9081021709832804$\n\n$t_{n-1,1-\\frac{\\alpha}2} = t_{9,0.995} =3.2498355440153697$\n\n$h = 0.9332459163949088$\n\nIntervalo de confianza : $C.I. = (\\bar{X}-h , \\bar{X} + h) = (1.9566347016050916,3.823126534394909)$\n\n"
          },
          "metadata": {}
        }
      ]
    }
  ]
}