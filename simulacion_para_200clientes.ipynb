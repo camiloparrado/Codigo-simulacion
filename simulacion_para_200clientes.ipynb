{
  "nbformat": 4,
  "nbformat_minor": 0,
  "metadata": {
    "colab": {
      "provenance": [],
      "authorship_tag": "ABX9TyP2nQvoblVmIE+tbNufZIxV",
      "include_colab_link": true
    },
    "kernelspec": {
      "name": "python3",
      "display_name": "Python 3"
    },
    "language_info": {
      "name": "python"
    }
  },
  "cells": [
    {
      "cell_type": "markdown",
      "metadata": {
        "id": "view-in-github",
        "colab_type": "text"
      },
      "source": [
        "<a href=\"https://colab.research.google.com/github/camiloparrado/Codigo-simulacion/blob/main/simulacion_para_200clientes.ipynb\" target=\"_parent\"><img src=\"https://colab.research.google.com/assets/colab-badge.svg\" alt=\"Open In Colab\"/></a>"
      ]
    },
    {
      "cell_type": "code",
      "execution_count": 1,
      "metadata": {
        "id": "Wk08cVbVFMXy"
      },
      "outputs": [],
      "source": [
        "import numpy as np\n",
        "from scipy import stats\n",
        "from IPython.display import display, Markdown"
      ]
    },
    {
      "cell_type": "code",
      "source": [
        "#M = [4.53, 5.135, 4.895, 4.52, 4.335, 4.485, 4.535, 4.325, 5.08, 4.805] tiempo promedio en el sistema\n",
        "#M = [0.36, 0.32, 0.32, 0.36, 0.38, 0.39, 0.4, 0.43, 0.37, 0.33] tiempo inactivo del servicio\n",
        "#M = [0.955, 1.5, 1.155, 0.93, 1.035, 1.06, 1.03, 0.82, 1.675, 1.145] tiempo promedio del espera por cliente\n",
        "#M = [0.38, 0.425, 0.415, 0.355, 0.33, 0.35, 0.355, 0.265, 0.425, 0.37] fraccion de clientes que tuvo que esperar\n",
        "M = [2.51315789, 3.52941176, 2.78313, 2.61971831, 3.13636364, 3.02857143, 2.90140845, 3.09433962, 3.94117647, 3.09459459] #tiempo promedio de espera de quienes esperaron\n",
        "\n",
        "\n",
        "reps = len(M)\n",
        "\n",
        "print(\"Rep.\\tValor\")\n",
        "for i in range(0, len(M)):\n",
        "    print(\"%d\\t%g\" % (i+1,M[i]), sep=' ', end='\\n')"
      ],
      "metadata": {
        "colab": {
          "base_uri": "https://localhost:8080/"
        },
        "id": "srvu6-JbFVeC",
        "outputId": "08e69ef8-4d86-45ab-c59f-3c0fd9256133"
      },
      "execution_count": 17,
      "outputs": [
        {
          "output_type": "stream",
          "name": "stdout",
          "text": [
            "Rep.\tAvg Time\n",
            "1\t2.51316\n",
            "2\t3.52941\n",
            "3\t2.78313\n",
            "4\t2.61972\n",
            "5\t3.13636\n",
            "6\t3.02857\n",
            "7\t2.90141\n",
            "8\t3.09434\n",
            "9\t3.94118\n",
            "10\t3.09459\n"
          ]
        }
      ]
    },
    {
      "cell_type": "code",
      "source": [
        "alpha = 0.01\n",
        "confidence = (1-alpha)*100\n",
        "\n",
        "mean = np.mean(M)\n",
        "var = np.var(M,ddof=1)\n",
        "desv = np.sqrt(var)\n",
        "\n",
        "tval = stats.t.ppf(1-(alpha/2), reps-1)\n",
        "hval = tval*(desv/np.sqrt(reps))\n",
        "\n",
        "display(Markdown(\n",
        "   rf\"\"\"\n",
        "${confidence}\\%$ confidence\n",
        "\n",
        "$\\bar{{X}} = {mean}$\n",
        "\n",
        "$S = {desv}$\n",
        "\n",
        "$t_{{n-1,1-\\frac{{\\alpha}}{2}}} = t_{{{reps-1},{1-alpha/2}}} ={tval}$\n",
        "\n",
        "$h = {hval}$\n",
        "\n",
        "Intervalo de confianza : $C.I. = (\\bar{{X}}-h , \\bar{{X}} + h) = ({mean-hval},{mean+hval})$\n",
        "\n",
        "\"\"\"))"
      ],
      "metadata": {
        "colab": {
          "base_uri": "https://localhost:8080/",
          "height": 185
        },
        "id": "RyKSo3RpFZ7Z",
        "outputId": "cfa66188-f5d1-4913-c114-14e04dfe3ba4"
      },
      "execution_count": 19,
      "outputs": [
        {
          "output_type": "display_data",
          "data": {
            "text/plain": [
              "<IPython.core.display.Markdown object>"
            ],
            "text/markdown": "\n$99.0\\%$ confidence\n\n$\\bar{X} = 3.0641872159999997$\n\n$S = 0.42170707791399853$\n\n$t_{n-1,1-\\frac{\\alpha}2} = t_{9,0.995} =3.2498355440153697$\n\n$h = 0.43338340216930804$\n\nIntervalo de confianza : $C.I. = (\\bar{X}-h , \\bar{X} + h) = (2.6308038138306915,3.497570618169308)$\n\n"
          },
          "metadata": {}
        }
      ]
    }
  ]
}